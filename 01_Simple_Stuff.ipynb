{
 "cells": [
  {
   "cell_type": "markdown",
   "metadata": {},
   "source": [
    "## Friday, December 13, 2024\n",
    "\n",
    "Today I am going to start real simple. Serving up the model 'hermes-3-llama-3.2-3b' locally through LMStudio."
   ]
  },
  {
   "cell_type": "markdown",
   "metadata": {},
   "source": [
    "Let's start by ensuring we do not use OpenAI anywhere in this notebook:"
   ]
  },
  {
   "cell_type": "code",
   "execution_count": 1,
   "metadata": {},
   "outputs": [
    {
     "name": "stdout",
     "output_type": "stream",
     "text": [
      "Nope!\n"
     ]
    }
   ],
   "source": [
    "# Deliberately set the OPENAI_API_KEY to an invalid value to ensure that the code is not using it.\n",
    "import os\n",
    "os.environ['OPENAI_API_KEY'] = \"Nope!\"\n",
    "print(os.environ['OPENAI_API_KEY'])"
   ]
  },
  {
   "cell_type": "markdown",
   "metadata": {},
   "source": [
    "### LMStudio"
   ]
  },
  {
   "cell_type": "markdown",
   "metadata": {},
   "source": [
    "[LMStudio OpenAI Compatibiliby API](https://lmstudio.ai/docs/api/openai-api)\n",
    "\n",
    "This is the default code provided from the above link:"
   ]
  },
  {
   "cell_type": "code",
   "execution_count": 2,
   "metadata": {},
   "outputs": [
    {
     "name": "stdout",
     "output_type": "stream",
     "text": [
      "ChatCompletionMessage(content='Greetings to you, my friendly friend,\\nI\\'m a AI with words at my end.\\nMy name is \" hromys system \",\\nA digital pal who\\'s always keen\\nTo chat and share my knowledge, \\nIn lines and rhyme I hope to soak\\nWith humor, facts and stories too,\\nMy goal is to make your day anew.', refusal=None, role='assistant', audio=None, function_call=None, tool_calls=None)\n"
     ]
    }
   ],
   "source": [
    "# Example: reuse your existing OpenAI setup\n",
    "from openai import OpenAI\n",
    "\n",
    "# Point to the local server\n",
    "client = OpenAI(base_url=\"http://localhost:1234/v1\", api_key=\"lm-studio\")\n",
    "\n",
    "completion = client.chat.completions.create(\n",
    "  model=\"model-identifier\",\n",
    "  messages=[\n",
    "    {\"role\": \"system\", \"content\": \"Always answer in rhymes.\"},\n",
    "    {\"role\": \"user\", \"content\": \"Introduce yourself.\"}\n",
    "  ],\n",
    "  temperature=0.7,\n",
    ")\n",
    "\n",
    "print(completion.choices[0].message)\n"
   ]
  },
  {
   "cell_type": "markdown",
   "metadata": {},
   "source": [
    "What can we learn about the [NousResearch/Hermes-3-Llama-3.2-3B-GGUF](https://huggingface.co/NousResearch/Hermes-3-Llama-3.2-3B-GGUF) model on HuggingFace? The part I am interested is the Prompt format:\n",
    "\n",
    "    Hermes 3 uses ChatML as the prompt format, opening up a much more structured system for engaging the LLM in multi-turn chat dialogue.\n",
    "\n",
    "    System prompts allow steerability and interesting new ways to interact with an LLM, guiding rules, roles, and stylistic choices of the model.\n",
    "\n",
    "    This is a more complex format than alpaca or sharegpt, where special tokens were added to denote the beginning and end of any turn, along with roles for the turns.\n",
    "\n",
    "    This format enables OpenAI endpoint compatability, and people familiar with ChatGPT API will be familiar with the format, as it is the same used by OpenAI."
   ]
  },
  {
   "cell_type": "markdown",
   "metadata": {},
   "source": [
    "Ok, so what do we do to continue this 'conversation'? A quick search about 'Chat Markup Language' landed me on this [Text Generation](https://platform.openai.com/docs/guides/text-generation) page at OpenAI. It began with this example, which I have tweaked to work locally:"
   ]
  },
  {
   "cell_type": "code",
   "execution_count": 3,
   "metadata": {},
   "outputs": [
    {
     "name": "stdout",
     "output_type": "stream",
     "text": [
      "ChatCompletionMessage(content=\"In loops, a tree takes root,\\nRecursive dance, code's delight,\\nDepth unseen, it sooths.\", refusal=None, role='assistant', audio=None, function_call=None, tool_calls=None)\n"
     ]
    }
   ],
   "source": [
    "from openai import OpenAI\n",
    "\n",
    "# client = OpenAI()\n",
    "client = OpenAI(base_url=\"http://localhost:1234/v1\", api_key=\"lm-studio\")\n",
    "\n",
    "completion = client.chat.completions.create(\n",
    "    model=\"gpt-4o\",\n",
    "    messages=[\n",
    "        {\"role\": \"system\", \"content\": \"You are a helpful assistant.\"},\n",
    "        {\n",
    "            \"role\": \"user\",\n",
    "            \"content\": \"Write a haiku about recursion in programming.\"\n",
    "        }\n",
    "    ]\n",
    ")\n",
    "\n",
    "print(completion.choices[0].message)"
   ]
  },
  {
   "cell_type": "markdown",
   "metadata": {},
   "source": [
    "Ok, so I get that I am sending the llm my response to the 'assistant' as the 'user'. So let's build from that, starting with a local messages list:"
   ]
  },
  {
   "cell_type": "code",
   "execution_count": 4,
   "metadata": {},
   "outputs": [],
   "source": [
    "messages = [\n",
    "    {\"role\": \"system\", \"content\": \"You are Hermes 3.\"},\n",
    "    {\"role\": \"user\", \"content\": \"Hello, who are you?\"}\n",
    "]"
   ]
  },
  {
   "cell_type": "markdown",
   "metadata": {},
   "source": [
    "And now let's call the model with the above message:"
   ]
  },
  {
   "cell_type": "code",
   "execution_count": 5,
   "metadata": {},
   "outputs": [],
   "source": [
    "# For our local model, the 'model' name is unimportant.\n",
    "model=\"hermes-3-llama-3.2-3b\"\n",
    "completion = client.chat.completions.create(\n",
    "    model=model,\n",
    "    messages=messages\n",
    ")"
   ]
  },
  {
   "cell_type": "markdown",
   "metadata": {},
   "source": [
    "Grab the response from the model:"
   ]
  },
  {
   "cell_type": "code",
   "execution_count": 6,
   "metadata": {},
   "outputs": [
    {
     "data": {
      "text/plain": [
       "ChatCompletionMessage(content='I am Hermes 3, an AI system designed to provide helpful responses and assist you with various queries to the best of my capabilities. How may I help you today?', refusal=None, role='assistant', audio=None, function_call=None, tool_calls=None)"
      ]
     },
     "execution_count": 6,
     "metadata": {},
     "output_type": "execute_result"
    }
   ],
   "source": [
    "completion.choices[0].message"
   ]
  },
  {
   "cell_type": "markdown",
   "metadata": {},
   "source": [
    "Below is the response I can see in the LMStudio log:"
   ]
  },
  {
   "cell_type": "markdown",
   "metadata": {},
   "source": [
    "    [LM STUDIO SERVER] [hermes-3-llama-3.2-3b] Generated prediction: {\n",
    "    \"id\": \"chatcmpl-r4rte0xoimbnnnxltigoo\",\n",
    "    \"object\": \"chat.completion\",\n",
    "    \"created\": 1734109626,\n",
    "    \"model\": \"hermes-3-llama-3.2-3b\",\n",
    "    \"choices\": [\n",
    "        {\n",
    "        \"index\": 0,\n",
    "        \"message\": {\n",
    "            \"role\": \"assistant\",\n",
    "            \"content\": \"I am Hermes 3, an artificial intelligence design. I do my best to provide helpful responses while staying within the bounds of my programming and the law. How may I assist you today?\"\n",
    "        },\n",
    "        \"logprobs\": null,\n",
    "        \"finish_reason\": \"stop\"\n",
    "        }\n",
    "    ],\n",
    "    \"usage\": {\n",
    "        \"prompt_tokens\": 26,\n",
    "        \"completion_tokens\": 38,\n",
    "        \"total_tokens\": 64\n",
    "    },\n",
    "    \"system_fingerprint\": \"hermes-3-llama-3.2-3b\"\n",
    "    }"
   ]
  },
  {
   "cell_type": "markdown",
   "metadata": {},
   "source": [
    "So I think we need to grab the 'content' of the message from the 'assistant' role, and append this to the messages list."
   ]
  },
  {
   "cell_type": "code",
   "execution_count": 7,
   "metadata": {},
   "outputs": [
    {
     "data": {
      "text/plain": [
       "'I am Hermes 3, an AI system designed to provide helpful responses and assist you with various queries to the best of my capabilities. How may I help you today?'"
      ]
     },
     "execution_count": 7,
     "metadata": {},
     "output_type": "execute_result"
    }
   ],
   "source": [
    "assistantContent = completion.choices[0].message.content\n",
    "assistantContent"
   ]
  },
  {
   "cell_type": "code",
   "execution_count": 8,
   "metadata": {},
   "outputs": [
    {
     "data": {
      "text/plain": [
       "{'role': 'assistant',\n",
       " 'content': 'I am Hermes 3, an AI system designed to provide helpful responses and assist you with various queries to the best of my capabilities. How may I help you today?'}"
      ]
     },
     "execution_count": 8,
     "metadata": {},
     "output_type": "execute_result"
    }
   ],
   "source": [
    "assistantDictionary =  {\"role\": \"assistant\", \"content\": assistantContent}\n",
    "assistantDictionary"
   ]
  },
  {
   "cell_type": "code",
   "execution_count": 9,
   "metadata": {},
   "outputs": [
    {
     "data": {
      "text/plain": [
       "[{'role': 'system', 'content': 'You are Hermes 3.'},\n",
       " {'role': 'user', 'content': 'Hello, who are you?'},\n",
       " {'role': 'assistant',\n",
       "  'content': 'I am Hermes 3, an AI system designed to provide helpful responses and assist you with various queries to the best of my capabilities. How may I help you today?'}]"
      ]
     },
     "execution_count": 9,
     "metadata": {},
     "output_type": "execute_result"
    }
   ],
   "source": [
    "messages.append(assistantDictionary)\n",
    "messages"
   ]
  },
  {
   "cell_type": "markdown",
   "metadata": {},
   "source": [
    "Now append some new 'user' message to ask of the LLM to respond to:"
   ]
  },
  {
   "cell_type": "code",
   "execution_count": 10,
   "metadata": {},
   "outputs": [
    {
     "data": {
      "text/plain": [
       "[{'role': 'system', 'content': 'You are Hermes 3.'},\n",
       " {'role': 'user', 'content': 'Hello, who are you?'},\n",
       " {'role': 'assistant',\n",
       "  'content': 'I am Hermes 3, an AI system designed to provide helpful responses and assist you with various queries to the best of my capabilities. How may I help you today?'},\n",
       " {'role': 'user', 'content': 'Tell me some joke about a dog.'}]"
      ]
     },
     "execution_count": 10,
     "metadata": {},
     "output_type": "execute_result"
    }
   ],
   "source": [
    "messages.append({\"role\": \"user\", \"content\": \"Tell me some joke about a dog.\"})\n",
    "messages"
   ]
  },
  {
   "cell_type": "markdown",
   "metadata": {},
   "source": [
    "Ask, and show the response."
   ]
  },
  {
   "cell_type": "code",
   "execution_count": 11,
   "metadata": {},
   "outputs": [
    {
     "data": {
      "text/plain": [
       "ChatCompletionMessage(content=\"Why do dogs chase their tails? Because if they didn't, they'd have no tail at all!\", refusal=None, role='assistant', audio=None, function_call=None, tool_calls=None)"
      ]
     },
     "execution_count": 11,
     "metadata": {},
     "output_type": "execute_result"
    }
   ],
   "source": [
    "completion = client.chat.completions.create(\n",
    "    model=model,\n",
    "    messages=messages\n",
    ")\n",
    "completion.choices[0].message"
   ]
  },
  {
   "cell_type": "markdown",
   "metadata": {},
   "source": [
    "    [LM STUDIO SERVER] [hermes-3-llama-3.2-3b] Generated prediction: {\n",
    "    \"id\": \"chatcmpl-qy9xi3xmn67nonzl606zq\",\n",
    "    \"object\": \"chat.completion\",\n",
    "    \"created\": 1734111195,\n",
    "    \"model\": \"hermes-3-llama-3.2-3b\",\n",
    "    \"choices\": [\n",
    "        {\n",
    "        \"index\": 0,\n",
    "        \"message\": {\n",
    "            \"role\": \"assistant\",\n",
    "            \"content\": \"Why do dogs chase their tails? Because if they didn't, they'd have no tail at all!\"\n",
    "        },\n",
    "        \"logprobs\": null,\n",
    "        \"finish_reason\": \"stop\"\n",
    "        }\n",
    "    ],\n",
    "    \"usage\": {\n",
    "        \"prompt_tokens\": 78,\n",
    "        \"completion_tokens\": 21,\n",
    "        \"total_tokens\": 99\n",
    "    },\n",
    "    \"system_fingerprint\": \"hermes-3-llama-3.2-3b\"\n",
    "    }"
   ]
  },
  {
   "cell_type": "markdown",
   "metadata": {},
   "source": [
    "Ok! So at this point it is clear that is the process! A back and forth conversation where the user submits some query as \"user\" and the LLM responds as \"assistant\".\n",
    "\n",
    "Hmm just popped into my head ... why not see if I can grab some of the chats I have created with ChatGPT and fire them through this local LLM to see how they compare! Hmm I though there would be a simple way to grab any chat as a list and then just run the same thing here to see what happens, but nope, not seeing it. Sigh ..."
   ]
  },
  {
   "cell_type": "markdown",
   "metadata": {},
   "source": []
  }
 ],
 "metadata": {
  "kernelspec": {
   "display_name": "Python 3",
   "language": "python",
   "name": "python3"
  },
  "language_info": {
   "codemirror_mode": {
    "name": "ipython",
    "version": 3
   },
   "file_extension": ".py",
   "mimetype": "text/x-python",
   "name": "python",
   "nbconvert_exporter": "python",
   "pygments_lexer": "ipython3",
   "version": "3.11.11"
  }
 },
 "nbformat": 4,
 "nbformat_minor": 2
}
